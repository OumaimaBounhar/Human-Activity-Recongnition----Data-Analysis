{
  "cells": [
    {
      "cell_type": "code",
      "execution_count": null,
      "metadata": {
        "id": "Z028S_FCKEOa"
      },
      "outputs": [],
      "source": [
        "import csv\n",
        "import pandas as pd\n",
        "import matplotlib.pyplot as plt"
      ]
    },
    {
      "cell_type": "code",
      "execution_count": null,
      "metadata": {
        "id": "dkBKkw2oKZvk"
      },
      "outputs": [],
      "source": [
        "pat = pd.read_csv(\"pat_indicators.csv\")"
      ]
    },
    {
      "cell_type": "code",
      "source": [
        "patients = [\"P01\",\"P02\",\"P03\",\"P04\",\"P05\",\"P08\",\"P10\",\"P11\",\"P13\",\"P16\",\"P18\",\"P19\",\"P20\",\"P21\",\"P22\",\"P23\",\"P24\",\"P25\",\"P27\",\"P31\",\"P35\",\"P36\",\"P38\",\"P39\",\"P40\",\"P41\",\"P42\"]"
      ],
      "metadata": {
        "id": "5JII3AocMkwV"
      },
      "execution_count": null,
      "outputs": []
    },
    {
      "cell_type": "code",
      "source": [
        "pat = pat[pat.Id.isin(patients)]"
      ],
      "metadata": {
        "id": "L3iVBQGDMp6D"
      },
      "execution_count": null,
      "outputs": []
    },
    {
      "cell_type": "code",
      "source": [
        "pat.describe()"
      ],
      "metadata": {
        "colab": {
          "base_uri": "https://localhost:8080/",
          "height": 300
        },
        "id": "glP5mrfjLCF_",
        "outputId": "e375aa04-f49e-45f5-cba7-06356d362071"
      },
      "execution_count": null,
      "outputs": [
        {
          "output_type": "execute_result",
          "data": {
            "text/plain": [
              "       surface_cdp  cdp_moyen_x  cdp_moyen_y  vit_moy_cdp_x  vit_moy_cdp_y  \\\n",
              "count    27.000000    27.000000    27.000000      27.000000      27.000000   \n",
              "mean    662.520370    12.681111   -17.138519      19.177037      11.193333   \n",
              "std     542.307137    44.952907    16.776931       8.784577       3.936492   \n",
              "min       6.610000   -67.260000   -53.190000       1.380000       3.530000   \n",
              "25%     286.970000   -11.155000   -30.400000      14.395000       8.640000   \n",
              "50%     527.600000    14.860000   -16.880000      17.470000      10.880000   \n",
              "75%     850.265000    40.605000    -3.480000      23.425000      14.185000   \n",
              "max    2112.190000   123.560000    10.660000      46.050000      19.090000   \n",
              "\n",
              "       longueur_cdp        ipm        ivv        age      height      weight  \\\n",
              "count     27.000000  27.000000  27.000000  26.000000   26.000000   26.000000   \n",
              "mean    1430.852963   1.079259  -0.325556  60.692308  171.269231   77.538462   \n",
              "std      579.214504   7.733634   0.653837  11.995897   10.160936   17.156295   \n",
              "min      504.440000 -12.600000  -0.970000  35.000000  152.000000   45.000000   \n",
              "25%     1103.820000  -5.285000  -0.770000  57.000000  165.750000   65.750000   \n",
              "50%     1349.600000   2.560000  -0.650000  64.000000  171.500000   77.000000   \n",
              "75%     1665.215000   8.275000   0.045000  66.500000  178.250000   86.000000   \n",
              "max     3076.970000  12.830000   0.990000  84.000000  192.000000  108.000000   \n",
              "\n",
              "         post_avc       Berg      class  \n",
              "count   26.000000  26.000000  27.000000  \n",
              "mean    22.269231  49.423077   3.444444  \n",
              "std     41.457986   5.845840   1.502135  \n",
              "min      1.000000  33.000000   1.000000  \n",
              "25%      3.000000  47.000000   2.000000  \n",
              "50%      5.000000  49.000000   4.000000  \n",
              "75%     12.250000  55.000000   5.000000  \n",
              "max    160.000000  56.000000   5.000000  "
            ],
            "text/html": [
              "\n",
              "  <div id=\"df-7ec91c23-b64a-437f-a730-92bb62b4e71e\">\n",
              "    <div class=\"colab-df-container\">\n",
              "      <div>\n",
              "<style scoped>\n",
              "    .dataframe tbody tr th:only-of-type {\n",
              "        vertical-align: middle;\n",
              "    }\n",
              "\n",
              "    .dataframe tbody tr th {\n",
              "        vertical-align: top;\n",
              "    }\n",
              "\n",
              "    .dataframe thead th {\n",
              "        text-align: right;\n",
              "    }\n",
              "</style>\n",
              "<table border=\"1\" class=\"dataframe\">\n",
              "  <thead>\n",
              "    <tr style=\"text-align: right;\">\n",
              "      <th></th>\n",
              "      <th>surface_cdp</th>\n",
              "      <th>cdp_moyen_x</th>\n",
              "      <th>cdp_moyen_y</th>\n",
              "      <th>vit_moy_cdp_x</th>\n",
              "      <th>vit_moy_cdp_y</th>\n",
              "      <th>longueur_cdp</th>\n",
              "      <th>ipm</th>\n",
              "      <th>ivv</th>\n",
              "      <th>age</th>\n",
              "      <th>height</th>\n",
              "      <th>weight</th>\n",
              "      <th>post_avc</th>\n",
              "      <th>Berg</th>\n",
              "      <th>class</th>\n",
              "    </tr>\n",
              "  </thead>\n",
              "  <tbody>\n",
              "    <tr>\n",
              "      <th>count</th>\n",
              "      <td>27.000000</td>\n",
              "      <td>27.000000</td>\n",
              "      <td>27.000000</td>\n",
              "      <td>27.000000</td>\n",
              "      <td>27.000000</td>\n",
              "      <td>27.000000</td>\n",
              "      <td>27.000000</td>\n",
              "      <td>27.000000</td>\n",
              "      <td>26.000000</td>\n",
              "      <td>26.000000</td>\n",
              "      <td>26.000000</td>\n",
              "      <td>26.000000</td>\n",
              "      <td>26.000000</td>\n",
              "      <td>27.000000</td>\n",
              "    </tr>\n",
              "    <tr>\n",
              "      <th>mean</th>\n",
              "      <td>662.520370</td>\n",
              "      <td>12.681111</td>\n",
              "      <td>-17.138519</td>\n",
              "      <td>19.177037</td>\n",
              "      <td>11.193333</td>\n",
              "      <td>1430.852963</td>\n",
              "      <td>1.079259</td>\n",
              "      <td>-0.325556</td>\n",
              "      <td>60.692308</td>\n",
              "      <td>171.269231</td>\n",
              "      <td>77.538462</td>\n",
              "      <td>22.269231</td>\n",
              "      <td>49.423077</td>\n",
              "      <td>3.444444</td>\n",
              "    </tr>\n",
              "    <tr>\n",
              "      <th>std</th>\n",
              "      <td>542.307137</td>\n",
              "      <td>44.952907</td>\n",
              "      <td>16.776931</td>\n",
              "      <td>8.784577</td>\n",
              "      <td>3.936492</td>\n",
              "      <td>579.214504</td>\n",
              "      <td>7.733634</td>\n",
              "      <td>0.653837</td>\n",
              "      <td>11.995897</td>\n",
              "      <td>10.160936</td>\n",
              "      <td>17.156295</td>\n",
              "      <td>41.457986</td>\n",
              "      <td>5.845840</td>\n",
              "      <td>1.502135</td>\n",
              "    </tr>\n",
              "    <tr>\n",
              "      <th>min</th>\n",
              "      <td>6.610000</td>\n",
              "      <td>-67.260000</td>\n",
              "      <td>-53.190000</td>\n",
              "      <td>1.380000</td>\n",
              "      <td>3.530000</td>\n",
              "      <td>504.440000</td>\n",
              "      <td>-12.600000</td>\n",
              "      <td>-0.970000</td>\n",
              "      <td>35.000000</td>\n",
              "      <td>152.000000</td>\n",
              "      <td>45.000000</td>\n",
              "      <td>1.000000</td>\n",
              "      <td>33.000000</td>\n",
              "      <td>1.000000</td>\n",
              "    </tr>\n",
              "    <tr>\n",
              "      <th>25%</th>\n",
              "      <td>286.970000</td>\n",
              "      <td>-11.155000</td>\n",
              "      <td>-30.400000</td>\n",
              "      <td>14.395000</td>\n",
              "      <td>8.640000</td>\n",
              "      <td>1103.820000</td>\n",
              "      <td>-5.285000</td>\n",
              "      <td>-0.770000</td>\n",
              "      <td>57.000000</td>\n",
              "      <td>165.750000</td>\n",
              "      <td>65.750000</td>\n",
              "      <td>3.000000</td>\n",
              "      <td>47.000000</td>\n",
              "      <td>2.000000</td>\n",
              "    </tr>\n",
              "    <tr>\n",
              "      <th>50%</th>\n",
              "      <td>527.600000</td>\n",
              "      <td>14.860000</td>\n",
              "      <td>-16.880000</td>\n",
              "      <td>17.470000</td>\n",
              "      <td>10.880000</td>\n",
              "      <td>1349.600000</td>\n",
              "      <td>2.560000</td>\n",
              "      <td>-0.650000</td>\n",
              "      <td>64.000000</td>\n",
              "      <td>171.500000</td>\n",
              "      <td>77.000000</td>\n",
              "      <td>5.000000</td>\n",
              "      <td>49.000000</td>\n",
              "      <td>4.000000</td>\n",
              "    </tr>\n",
              "    <tr>\n",
              "      <th>75%</th>\n",
              "      <td>850.265000</td>\n",
              "      <td>40.605000</td>\n",
              "      <td>-3.480000</td>\n",
              "      <td>23.425000</td>\n",
              "      <td>14.185000</td>\n",
              "      <td>1665.215000</td>\n",
              "      <td>8.275000</td>\n",
              "      <td>0.045000</td>\n",
              "      <td>66.500000</td>\n",
              "      <td>178.250000</td>\n",
              "      <td>86.000000</td>\n",
              "      <td>12.250000</td>\n",
              "      <td>55.000000</td>\n",
              "      <td>5.000000</td>\n",
              "    </tr>\n",
              "    <tr>\n",
              "      <th>max</th>\n",
              "      <td>2112.190000</td>\n",
              "      <td>123.560000</td>\n",
              "      <td>10.660000</td>\n",
              "      <td>46.050000</td>\n",
              "      <td>19.090000</td>\n",
              "      <td>3076.970000</td>\n",
              "      <td>12.830000</td>\n",
              "      <td>0.990000</td>\n",
              "      <td>84.000000</td>\n",
              "      <td>192.000000</td>\n",
              "      <td>108.000000</td>\n",
              "      <td>160.000000</td>\n",
              "      <td>56.000000</td>\n",
              "      <td>5.000000</td>\n",
              "    </tr>\n",
              "  </tbody>\n",
              "</table>\n",
              "</div>\n",
              "      <button class=\"colab-df-convert\" onclick=\"convertToInteractive('df-7ec91c23-b64a-437f-a730-92bb62b4e71e')\"\n",
              "              title=\"Convert this dataframe to an interactive table.\"\n",
              "              style=\"display:none;\">\n",
              "        \n",
              "  <svg xmlns=\"http://www.w3.org/2000/svg\" height=\"24px\"viewBox=\"0 0 24 24\"\n",
              "       width=\"24px\">\n",
              "    <path d=\"M0 0h24v24H0V0z\" fill=\"none\"/>\n",
              "    <path d=\"M18.56 5.44l.94 2.06.94-2.06 2.06-.94-2.06-.94-.94-2.06-.94 2.06-2.06.94zm-11 1L8.5 8.5l.94-2.06 2.06-.94-2.06-.94L8.5 2.5l-.94 2.06-2.06.94zm10 10l.94 2.06.94-2.06 2.06-.94-2.06-.94-.94-2.06-.94 2.06-2.06.94z\"/><path d=\"M17.41 7.96l-1.37-1.37c-.4-.4-.92-.59-1.43-.59-.52 0-1.04.2-1.43.59L10.3 9.45l-7.72 7.72c-.78.78-.78 2.05 0 2.83L4 21.41c.39.39.9.59 1.41.59.51 0 1.02-.2 1.41-.59l7.78-7.78 2.81-2.81c.8-.78.8-2.07 0-2.86zM5.41 20L4 18.59l7.72-7.72 1.47 1.35L5.41 20z\"/>\n",
              "  </svg>\n",
              "      </button>\n",
              "      \n",
              "  <style>\n",
              "    .colab-df-container {\n",
              "      display:flex;\n",
              "      flex-wrap:wrap;\n",
              "      gap: 12px;\n",
              "    }\n",
              "\n",
              "    .colab-df-convert {\n",
              "      background-color: #E8F0FE;\n",
              "      border: none;\n",
              "      border-radius: 50%;\n",
              "      cursor: pointer;\n",
              "      display: none;\n",
              "      fill: #1967D2;\n",
              "      height: 32px;\n",
              "      padding: 0 0 0 0;\n",
              "      width: 32px;\n",
              "    }\n",
              "\n",
              "    .colab-df-convert:hover {\n",
              "      background-color: #E2EBFA;\n",
              "      box-shadow: 0px 1px 2px rgba(60, 64, 67, 0.3), 0px 1px 3px 1px rgba(60, 64, 67, 0.15);\n",
              "      fill: #174EA6;\n",
              "    }\n",
              "\n",
              "    [theme=dark] .colab-df-convert {\n",
              "      background-color: #3B4455;\n",
              "      fill: #D2E3FC;\n",
              "    }\n",
              "\n",
              "    [theme=dark] .colab-df-convert:hover {\n",
              "      background-color: #434B5C;\n",
              "      box-shadow: 0px 1px 3px 1px rgba(0, 0, 0, 0.15);\n",
              "      filter: drop-shadow(0px 1px 2px rgba(0, 0, 0, 0.3));\n",
              "      fill: #FFFFFF;\n",
              "    }\n",
              "  </style>\n",
              "\n",
              "      <script>\n",
              "        const buttonEl =\n",
              "          document.querySelector('#df-7ec91c23-b64a-437f-a730-92bb62b4e71e button.colab-df-convert');\n",
              "        buttonEl.style.display =\n",
              "          google.colab.kernel.accessAllowed ? 'block' : 'none';\n",
              "\n",
              "        async function convertToInteractive(key) {\n",
              "          const element = document.querySelector('#df-7ec91c23-b64a-437f-a730-92bb62b4e71e');\n",
              "          const dataTable =\n",
              "            await google.colab.kernel.invokeFunction('convertToInteractive',\n",
              "                                                     [key], {});\n",
              "          if (!dataTable) return;\n",
              "\n",
              "          const docLinkHtml = 'Like what you see? Visit the ' +\n",
              "            '<a target=\"_blank\" href=https://colab.research.google.com/notebooks/data_table.ipynb>data table notebook</a>'\n",
              "            + ' to learn more about interactive tables.';\n",
              "          element.innerHTML = '';\n",
              "          dataTable['output_type'] = 'display_data';\n",
              "          await google.colab.output.renderOutput(dataTable, element);\n",
              "          const docLink = document.createElement('div');\n",
              "          docLink.innerHTML = docLinkHtml;\n",
              "          element.appendChild(docLink);\n",
              "        }\n",
              "      </script>\n",
              "    </div>\n",
              "  </div>\n",
              "  "
            ]
          },
          "metadata": {},
          "execution_count": 20
        }
      ]
    },
    {
      "cell_type": "code",
      "source": [
        "pat.head()"
      ],
      "metadata": {
        "colab": {
          "base_uri": "https://localhost:8080/",
          "height": 206
        },
        "id": "l94D8WS5L9Av",
        "outputId": "03bf6b98-b0cf-40eb-dbd1-b4589e8ce607"
      },
      "execution_count": null,
      "outputs": [
        {
          "output_type": "execute_result",
          "data": {
            "text/plain": [
              "    Id  surface_cdp  cdp_moyen_x  cdp_moyen_y  vit_moy_cdp_x  vit_moy_cdp_y  \\\n",
              "0  P01       262.06         4.04        -3.66           6.99           3.53   \n",
              "1  P02       230.89        10.14         5.94          25.05          14.37   \n",
              "2  P03       404.85        14.37         2.96          10.55           5.55   \n",
              "3  P04       586.90        -2.84       -24.53          25.76          10.33   \n",
              "4  P05       107.44        38.71       -23.16          11.28           4.45   \n",
              "\n",
              "   longueur_cdp   ipm   ivv gender   age  height  weight handi  post_avc  \\\n",
              "0        504.44  0.06 -0.62      F  35.0   153.0    70.0     d       5.0   \n",
              "1       1864.82  2.80 -0.92      M  57.0   180.0   100.0     d      10.0   \n",
              "2        767.10  2.15 -0.93      M  35.0   175.0    70.0     d       2.0   \n",
              "3       1727.46  9.37 -0.70      F  84.0   152.0    50.0     d       4.0   \n",
              "4        766.24 -7.92 -0.92      M  44.0   176.0    86.0     g       8.0   \n",
              "\n",
              "                                             support  Berg  class  \n",
              "0                       Releveur élastique D Canne G  51.0      1  \n",
              "1  Relev. fixe moulé D Canne simple G Rollator dé...  47.0      2  \n",
              "2                                     Canne simple G  55.0      5  \n",
              "3                                    Canne tripode G  37.0      1  \n",
              "4                                              Aucun  49.0      2  "
            ],
            "text/html": [
              "\n",
              "  <div id=\"df-0bf3141d-c6cb-4ef7-9701-5c8ca90f3e56\">\n",
              "    <div class=\"colab-df-container\">\n",
              "      <div>\n",
              "<style scoped>\n",
              "    .dataframe tbody tr th:only-of-type {\n",
              "        vertical-align: middle;\n",
              "    }\n",
              "\n",
              "    .dataframe tbody tr th {\n",
              "        vertical-align: top;\n",
              "    }\n",
              "\n",
              "    .dataframe thead th {\n",
              "        text-align: right;\n",
              "    }\n",
              "</style>\n",
              "<table border=\"1\" class=\"dataframe\">\n",
              "  <thead>\n",
              "    <tr style=\"text-align: right;\">\n",
              "      <th></th>\n",
              "      <th>Id</th>\n",
              "      <th>surface_cdp</th>\n",
              "      <th>cdp_moyen_x</th>\n",
              "      <th>cdp_moyen_y</th>\n",
              "      <th>vit_moy_cdp_x</th>\n",
              "      <th>vit_moy_cdp_y</th>\n",
              "      <th>longueur_cdp</th>\n",
              "      <th>ipm</th>\n",
              "      <th>ivv</th>\n",
              "      <th>gender</th>\n",
              "      <th>age</th>\n",
              "      <th>height</th>\n",
              "      <th>weight</th>\n",
              "      <th>handi</th>\n",
              "      <th>post_avc</th>\n",
              "      <th>support</th>\n",
              "      <th>Berg</th>\n",
              "      <th>class</th>\n",
              "    </tr>\n",
              "  </thead>\n",
              "  <tbody>\n",
              "    <tr>\n",
              "      <th>0</th>\n",
              "      <td>P01</td>\n",
              "      <td>262.06</td>\n",
              "      <td>4.04</td>\n",
              "      <td>-3.66</td>\n",
              "      <td>6.99</td>\n",
              "      <td>3.53</td>\n",
              "      <td>504.44</td>\n",
              "      <td>0.06</td>\n",
              "      <td>-0.62</td>\n",
              "      <td>F</td>\n",
              "      <td>35.0</td>\n",
              "      <td>153.0</td>\n",
              "      <td>70.0</td>\n",
              "      <td>d</td>\n",
              "      <td>5.0</td>\n",
              "      <td>Releveur élastique D Canne G</td>\n",
              "      <td>51.0</td>\n",
              "      <td>1</td>\n",
              "    </tr>\n",
              "    <tr>\n",
              "      <th>1</th>\n",
              "      <td>P02</td>\n",
              "      <td>230.89</td>\n",
              "      <td>10.14</td>\n",
              "      <td>5.94</td>\n",
              "      <td>25.05</td>\n",
              "      <td>14.37</td>\n",
              "      <td>1864.82</td>\n",
              "      <td>2.80</td>\n",
              "      <td>-0.92</td>\n",
              "      <td>M</td>\n",
              "      <td>57.0</td>\n",
              "      <td>180.0</td>\n",
              "      <td>100.0</td>\n",
              "      <td>d</td>\n",
              "      <td>10.0</td>\n",
              "      <td>Relev. fixe moulé D Canne simple G Rollator dé...</td>\n",
              "      <td>47.0</td>\n",
              "      <td>2</td>\n",
              "    </tr>\n",
              "    <tr>\n",
              "      <th>2</th>\n",
              "      <td>P03</td>\n",
              "      <td>404.85</td>\n",
              "      <td>14.37</td>\n",
              "      <td>2.96</td>\n",
              "      <td>10.55</td>\n",
              "      <td>5.55</td>\n",
              "      <td>767.10</td>\n",
              "      <td>2.15</td>\n",
              "      <td>-0.93</td>\n",
              "      <td>M</td>\n",
              "      <td>35.0</td>\n",
              "      <td>175.0</td>\n",
              "      <td>70.0</td>\n",
              "      <td>d</td>\n",
              "      <td>2.0</td>\n",
              "      <td>Canne simple G</td>\n",
              "      <td>55.0</td>\n",
              "      <td>5</td>\n",
              "    </tr>\n",
              "    <tr>\n",
              "      <th>3</th>\n",
              "      <td>P04</td>\n",
              "      <td>586.90</td>\n",
              "      <td>-2.84</td>\n",
              "      <td>-24.53</td>\n",
              "      <td>25.76</td>\n",
              "      <td>10.33</td>\n",
              "      <td>1727.46</td>\n",
              "      <td>9.37</td>\n",
              "      <td>-0.70</td>\n",
              "      <td>F</td>\n",
              "      <td>84.0</td>\n",
              "      <td>152.0</td>\n",
              "      <td>50.0</td>\n",
              "      <td>d</td>\n",
              "      <td>4.0</td>\n",
              "      <td>Canne tripode G</td>\n",
              "      <td>37.0</td>\n",
              "      <td>1</td>\n",
              "    </tr>\n",
              "    <tr>\n",
              "      <th>4</th>\n",
              "      <td>P05</td>\n",
              "      <td>107.44</td>\n",
              "      <td>38.71</td>\n",
              "      <td>-23.16</td>\n",
              "      <td>11.28</td>\n",
              "      <td>4.45</td>\n",
              "      <td>766.24</td>\n",
              "      <td>-7.92</td>\n",
              "      <td>-0.92</td>\n",
              "      <td>M</td>\n",
              "      <td>44.0</td>\n",
              "      <td>176.0</td>\n",
              "      <td>86.0</td>\n",
              "      <td>g</td>\n",
              "      <td>8.0</td>\n",
              "      <td>Aucun</td>\n",
              "      <td>49.0</td>\n",
              "      <td>2</td>\n",
              "    </tr>\n",
              "  </tbody>\n",
              "</table>\n",
              "</div>\n",
              "      <button class=\"colab-df-convert\" onclick=\"convertToInteractive('df-0bf3141d-c6cb-4ef7-9701-5c8ca90f3e56')\"\n",
              "              title=\"Convert this dataframe to an interactive table.\"\n",
              "              style=\"display:none;\">\n",
              "        \n",
              "  <svg xmlns=\"http://www.w3.org/2000/svg\" height=\"24px\"viewBox=\"0 0 24 24\"\n",
              "       width=\"24px\">\n",
              "    <path d=\"M0 0h24v24H0V0z\" fill=\"none\"/>\n",
              "    <path d=\"M18.56 5.44l.94 2.06.94-2.06 2.06-.94-2.06-.94-.94-2.06-.94 2.06-2.06.94zm-11 1L8.5 8.5l.94-2.06 2.06-.94-2.06-.94L8.5 2.5l-.94 2.06-2.06.94zm10 10l.94 2.06.94-2.06 2.06-.94-2.06-.94-.94-2.06-.94 2.06-2.06.94z\"/><path d=\"M17.41 7.96l-1.37-1.37c-.4-.4-.92-.59-1.43-.59-.52 0-1.04.2-1.43.59L10.3 9.45l-7.72 7.72c-.78.78-.78 2.05 0 2.83L4 21.41c.39.39.9.59 1.41.59.51 0 1.02-.2 1.41-.59l7.78-7.78 2.81-2.81c.8-.78.8-2.07 0-2.86zM5.41 20L4 18.59l7.72-7.72 1.47 1.35L5.41 20z\"/>\n",
              "  </svg>\n",
              "      </button>\n",
              "      \n",
              "  <style>\n",
              "    .colab-df-container {\n",
              "      display:flex;\n",
              "      flex-wrap:wrap;\n",
              "      gap: 12px;\n",
              "    }\n",
              "\n",
              "    .colab-df-convert {\n",
              "      background-color: #E8F0FE;\n",
              "      border: none;\n",
              "      border-radius: 50%;\n",
              "      cursor: pointer;\n",
              "      display: none;\n",
              "      fill: #1967D2;\n",
              "      height: 32px;\n",
              "      padding: 0 0 0 0;\n",
              "      width: 32px;\n",
              "    }\n",
              "\n",
              "    .colab-df-convert:hover {\n",
              "      background-color: #E2EBFA;\n",
              "      box-shadow: 0px 1px 2px rgba(60, 64, 67, 0.3), 0px 1px 3px 1px rgba(60, 64, 67, 0.15);\n",
              "      fill: #174EA6;\n",
              "    }\n",
              "\n",
              "    [theme=dark] .colab-df-convert {\n",
              "      background-color: #3B4455;\n",
              "      fill: #D2E3FC;\n",
              "    }\n",
              "\n",
              "    [theme=dark] .colab-df-convert:hover {\n",
              "      background-color: #434B5C;\n",
              "      box-shadow: 0px 1px 3px 1px rgba(0, 0, 0, 0.15);\n",
              "      filter: drop-shadow(0px 1px 2px rgba(0, 0, 0, 0.3));\n",
              "      fill: #FFFFFF;\n",
              "    }\n",
              "  </style>\n",
              "\n",
              "      <script>\n",
              "        const buttonEl =\n",
              "          document.querySelector('#df-0bf3141d-c6cb-4ef7-9701-5c8ca90f3e56 button.colab-df-convert');\n",
              "        buttonEl.style.display =\n",
              "          google.colab.kernel.accessAllowed ? 'block' : 'none';\n",
              "\n",
              "        async function convertToInteractive(key) {\n",
              "          const element = document.querySelector('#df-0bf3141d-c6cb-4ef7-9701-5c8ca90f3e56');\n",
              "          const dataTable =\n",
              "            await google.colab.kernel.invokeFunction('convertToInteractive',\n",
              "                                                     [key], {});\n",
              "          if (!dataTable) return;\n",
              "\n",
              "          const docLinkHtml = 'Like what you see? Visit the ' +\n",
              "            '<a target=\"_blank\" href=https://colab.research.google.com/notebooks/data_table.ipynb>data table notebook</a>'\n",
              "            + ' to learn more about interactive tables.';\n",
              "          element.innerHTML = '';\n",
              "          dataTable['output_type'] = 'display_data';\n",
              "          await google.colab.output.renderOutput(dataTable, element);\n",
              "          const docLink = document.createElement('div');\n",
              "          docLink.innerHTML = docLinkHtml;\n",
              "          element.appendChild(docLink);\n",
              "        }\n",
              "      </script>\n",
              "    </div>\n",
              "  </div>\n",
              "  "
            ]
          },
          "metadata": {},
          "execution_count": 21
        }
      ]
    },
    {
      "cell_type": "code",
      "source": [
        "c1 = 0\n",
        "c2 = 0\n",
        "c3 = 0\n",
        "c4 = 0\n",
        "c5 = 0\n",
        "for idx , row in pat.iterrows():\n",
        "  if row['class'] == 1 :\n",
        "    c1+=1\n",
        "  elif row['class'] == 2 :\n",
        "    c2+=1\n",
        "  elif row['class'] == 3 :\n",
        "    c3+=1\n",
        "  elif row['class'] == 4 :\n",
        "    c4+=1\n",
        "  elif row['class'] == 5 :\n",
        "    c5+=1\n",
        "print(c1,c2,c3,c4,c5)"
      ],
      "metadata": {
        "colab": {
          "base_uri": "https://localhost:8080/"
        },
        "id": "vXr9HrvFReeV",
        "outputId": "32c6e74b-ab11-4f70-a575-2db8e7a60e97"
      },
      "execution_count": null,
      "outputs": [
        {
          "output_type": "stream",
          "name": "stdout",
          "text": [
            "3 7 2 5 10\n"
          ]
        }
      ]
    },
    {
      "cell_type": "code",
      "source": [
        "count_list = [0,0,0,0,0]\n",
        "for _, row in pat.iterrows():\n",
        "  count_list[row['class']-1]+=1\n",
        "\n",
        "print(count_list)"
      ],
      "metadata": {
        "colab": {
          "base_uri": "https://localhost:8080/"
        },
        "id": "sckVVMGVTFn_",
        "outputId": "09acd87f-fbff-44b2-c1ed-6b88e5cc4443"
      },
      "execution_count": null,
      "outputs": [
        {
          "output_type": "stream",
          "name": "stdout",
          "text": [
            "[3, 7, 2, 5, 10]\n"
          ]
        }
      ]
    },
    {
      "cell_type": "code",
      "source": [
        "pd.DataFrame(pat['class'].value_counts()).plot.bar()"
      ],
      "metadata": {
        "colab": {
          "base_uri": "https://localhost:8080/",
          "height": 442
        },
        "id": "u26FzK-ATmL9",
        "outputId": "2b7bf6ff-5dfe-4b86-dcf1-d783dd768bd5"
      },
      "execution_count": null,
      "outputs": [
        {
          "output_type": "execute_result",
          "data": {
            "text/plain": [
              "<Axes: >"
            ]
          },
          "metadata": {},
          "execution_count": 57
        },
        {
          "output_type": "display_data",
          "data": {
            "text/plain": [
              "<Figure size 640x480 with 1 Axes>"
            ],
            "image/png": "[encoded data removed]"
          },
          "metadata": {}
        }
      ]
    },
    {
      "cell_type": "code",
      "source": [
        "pd.DataFrame(pat.gender.value_counts()).plot.bar()"
      ],
      "metadata": {
        "colab": {
          "base_uri": "https://localhost:8080/",
          "height": 445
        },
        "id": "x8iiUbI9NXxj",
        "outputId": "f24c8740-4bac-4851-bd6a-bd83cc0b943b"
      },
      "execution_count": null,
      "outputs": [
        {
          "output_type": "execute_result",
          "data": {
            "text/plain": [
              "<Axes: >"
            ]
          },
          "metadata": {},
          "execution_count": 34
        },
        {
          "output_type": "display_data",
          "data": {
            "text/plain": [
              "<Figure size 640x480 with 1 Axes>"
            ],
            "image/png": "[encoded data removed]"
          },
          "metadata": {}
        }
      ]
    },
    {
      "cell_type": "code",
      "source": [
        "pd.DataFrame(pat.handi.value_counts()).plot.bar()"
      ],
      "metadata": {
        "colab": {
          "base_uri": "https://localhost:8080/",
          "height": 442
        },
        "id": "66SRjluONm_d",
        "outputId": "0bb97166-abcd-449d-e291-00f9778bfedb"
      },
      "execution_count": null,
      "outputs": [
        {
          "output_type": "execute_result",
          "data": {
            "text/plain": [
              "<Axes: >"
            ]
          },
          "metadata": {},
          "execution_count": 35
        },
        {
          "output_type": "display_data",
          "data": {
            "text/plain": [
              "<Figure size 640x480 with 1 Axes>"
            ],
            "image/png": "[encoded data removed]"
          },
          "metadata": {}
        }
      ]
    },
    {
      "cell_type": "code",
      "source": [
        "pat.boxplot(['height', 'weight'], 'gender')"
      ],
      "metadata": {
        "colab": {
          "base_uri": "https://localhost:8080/",
          "height": 513
        },
        "id": "HbUrjD5bLGey",
        "outputId": "8a6511e0-ae9c-4107-e252-8f6970a36563"
      },
      "execution_count": null,
      "outputs": [
        {
          "output_type": "execute_result",
          "data": {
            "text/plain": [
              "array([<Axes: title={'center': 'height'}, xlabel='gender'>,\n",
              "       <Axes: title={'center': 'weight'}, xlabel='gender'>], dtype=object)"
            ]
          },
          "metadata": {},
          "execution_count": 26
        },
        {
          "output_type": "display_data",
          "data": {
            "text/plain": [
              "<Figure size 640x480 with 2 Axes>"
            ],
            "image/png": "[encoded data removed]"
          },
          "metadata": {}
        }
      ]
    },
    {
      "cell_type": "code",
      "source": [
        "pat.boxplot('post_avc', 'class')"
      ],
      "metadata": {
        "colab": {
          "base_uri": "https://localhost:8080/",
          "height": 495
        },
        "id": "XiEg0eSzNQRR",
        "outputId": "948c5116-dabc-4c81-d408-56d2fb16470c"
      },
      "execution_count": null,
      "outputs": [
        {
          "output_type": "execute_result",
          "data": {
            "text/plain": [
              "<Axes: title={'center': 'post_avc'}, xlabel='class'>"
            ]
          },
          "metadata": {},
          "execution_count": 40
        },
        {
          "output_type": "display_data",
          "data": {
            "text/plain": [
              "<Figure size 640x480 with 1 Axes>"
            ],
            "image/png": "[encoded data removed]"
          },
          "metadata": {}
        }
      ]
    },
    {
      "cell_type": "code",
      "source": [
        "pat.boxplot('Berg', 'class')"
      ],
      "metadata": {
        "colab": {
          "base_uri": "https://localhost:8080/",
          "height": 495
        },
        "id": "IIlRjfdFQ0X7",
        "outputId": "74044955-2bff-43e3-ac50-e2bdf39f039b"
      },
      "execution_count": null,
      "outputs": [
        {
          "output_type": "execute_result",
          "data": {
            "text/plain": [
              "<Axes: title={'center': 'Berg'}, xlabel='class'>"
            ]
          },
          "metadata": {},
          "execution_count": 42
        },
        {
          "output_type": "display_data",
          "data": {
            "text/plain": [
              "<Figure size 640x480 with 1 Axes>"
            ],
            "image/png": "[encoded data removed]"
          },
          "metadata": {}
        }
      ]
    },
    {
      "cell_type": "code",
      "source": [
        "pat.boxplot('age', 'class')"
      ],
      "metadata": {
        "colab": {
          "base_uri": "https://localhost:8080/",
          "height": 495
        },
        "id": "0-wV4umbRCXx",
        "outputId": "8f1034c4-4991-4f1f-dd5c-8f8a34297502"
      },
      "execution_count": null,
      "outputs": [
        {
          "output_type": "execute_result",
          "data": {
            "text/plain": [
              "<Axes: title={'center': 'age'}, xlabel='class'>"
            ]
          },
          "metadata": {},
          "execution_count": 43
        },
        {
          "output_type": "display_data",
          "data": {
            "text/plain": [
              "<Figure size 640x480 with 1 Axes>"
            ],
            "image/png": "[encoded data removed]"
          },
          "metadata": {}
        }
      ]
    },
    {
      "cell_type": "code",
      "source": [
        "pat.Id.nunique()"
      ],
      "metadata": {
        "colab": {
          "base_uri": "https://localhost:8080/"
        },
        "id": "eJbCGUC9MUbX",
        "outputId": "55f58ccb-3740-41d8-c4d4-6f0a820246e8"
      },
      "execution_count": null,
      "outputs": [
        {
          "output_type": "execute_result",
          "data": {
            "text/plain": [
              "27"
            ]
          },
          "metadata": {},
          "execution_count": 23
        }
      ]
    },
    {
      "cell_type": "code",
      "source": [
        "#class est le score de la qualité de marche\n"
      ],
      "metadata": {
        "id": "GUFszKCmLctS"
      },
      "execution_count": null,
      "outputs": []
    }
  ],
  "metadata": {
    "colab": {
      "provenance": []
    },
    "kernelspec": {
      "display_name": "Python 3",
      "name": "python3"
    },
    "language_info": {
      "name": "python"
    }
  },
  "nbformat": 4,
  "nbformat_minor": 0
}